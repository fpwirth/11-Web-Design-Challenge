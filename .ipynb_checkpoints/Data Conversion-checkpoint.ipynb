{
 "cells": [
  {
   "cell_type": "code",
   "execution_count": 14,
   "metadata": {},
   "outputs": [],
   "source": [
    "#Load Dependencies\n",
    "import os\n",
    "import pandas as pd\n",
    "import datetime as dt\n",
    "\n",
    "#Define data file to import\n",
    "citiesdata='WebVisualizations/resources/cities.csv'\n",
    "\n",
    "#Read data file into Panda data frames and fix data column\n",
    "citiesdata=pd.read_csv(citiesdata)\n",
    "citiesdata['Date']=pd.to_datetime(citiesdata['Date'])\n",
    "citiesdata['Date'] = citiesdata['Date'].dt.date\n",
    "\n",
    "#Output data file to HTML table\n",
    "citiesdata.to_html('cities_data_html_code.html',index=False)"
   ]
  },
  {
   "cell_type": "code",
   "execution_count": null,
   "metadata": {},
   "outputs": [],
   "source": []
  }
 ],
 "metadata": {
  "kernelspec": {
   "display_name": "Python 3",
   "language": "python",
   "name": "python3"
  },
  "language_info": {
   "codemirror_mode": {
    "name": "ipython",
    "version": 3
   },
   "file_extension": ".py",
   "mimetype": "text/x-python",
   "name": "python",
   "nbconvert_exporter": "python",
   "pygments_lexer": "ipython3",
   "version": "3.7.4"
  }
 },
 "nbformat": 4,
 "nbformat_minor": 4
}
